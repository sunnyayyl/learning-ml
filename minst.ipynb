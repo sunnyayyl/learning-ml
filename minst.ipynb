{
 "cells": [
  {
   "cell_type": "code",
   "id": "initial_id",
   "metadata": {
    "collapsed": true,
    "ExecuteTime": {
     "end_time": "2024-08-11T21:46:54.039678Z",
     "start_time": "2024-08-11T21:46:54.036514Z"
    }
   },
   "source": [
    "import jax\n",
    "import jax.random as random\n",
    "import torch\n",
    "from torchvision import datasets, transforms\n",
    "import matplotlib.pyplot as plt\n",
    "from PIL import Image\n",
    "from torch.utils.data import DataLoader\n",
    "import equinox as eqx\n",
    "from jaxtyping import PRNGKeyArray, Float, Array, Int, PyTree\n",
    "import jax.numpy as jnp\n",
    "import numpy as np\n",
    "import jaxtyping\n",
    "import typeguard\n",
    "import optax\n",
    "from typing import Callable\n",
    "from functools import partial"
   ],
   "outputs": [],
   "execution_count": 316
  },
  {
   "metadata": {
    "ExecuteTime": {
     "end_time": "2024-08-11T21:46:54.060060Z",
     "start_time": "2024-08-11T21:46:54.057363Z"
    }
   },
   "cell_type": "code",
   "source": [
    "%load_ext jaxtyping\n",
    "%jaxtyping.typechecker typeguard.typechecked"
   ],
   "id": "8a8cb3bd6fce50f7",
   "outputs": [
    {
     "name": "stdout",
     "output_type": "stream",
     "text": [
      "The jaxtyping extension is already loaded. To reload it, use:\n",
      "  %reload_ext jaxtyping\n"
     ]
    }
   ],
   "execution_count": 317
  },
  {
   "metadata": {
    "ExecuteTime": {
     "end_time": "2024-08-11T21:46:54.076581Z",
     "start_time": "2024-08-11T21:46:54.073892Z"
    }
   },
   "cell_type": "code",
   "source": "jax.devices()",
   "id": "a1dc32546b6a59a4",
   "outputs": [
    {
     "data": {
      "text/plain": [
       "[CudaDevice(id=0)]"
      ]
     },
     "execution_count": 318,
     "metadata": {},
     "output_type": "execute_result"
    }
   ],
   "execution_count": 318
  },
  {
   "metadata": {
    "ExecuteTime": {
     "end_time": "2024-08-11T21:46:54.089599Z",
     "start_time": "2024-08-11T21:46:54.077516Z"
    }
   },
   "cell_type": "code",
   "source": [
    "BATCH_SIZE = 64\n",
    "LEARNING_RATE = 6 * 10 ** -4  # 3e-4\n",
    "EPOCHES = 450\n",
    "PRINT_INTERVAL = 30\n",
    "SEED = 4567\n",
    "FloatScalar = Float[Array, \"\"]\n",
    "key = random.PRNGKey(SEED)"
   ],
   "id": "373928c320f4c2f4",
   "outputs": [],
   "execution_count": 319
  },
  {
   "metadata": {
    "ExecuteTime": {
     "end_time": "2024-08-11T21:46:54.158608Z",
     "start_time": "2024-08-11T21:46:54.090632Z"
    }
   },
   "cell_type": "code",
   "source": [
    "normalize_data = transforms.Compose([\n",
    "    transforms.ToTensor(),\n",
    "    transforms.Normalize((0.5,), (0.5,)),\n",
    "])\n",
    "training_dataset = datasets.MNIST(\n",
    "    root=\"data\",\n",
    "    train=True,\n",
    "    download=True,\n",
    "    transform=normalize_data\n",
    ")\n",
    "test_dataset = datasets.MNIST(\n",
    "    root=\"data\",\n",
    "    train=False,\n",
    "    download=True,\n",
    "    transform=normalize_data\n",
    ")\n"
   ],
   "id": "bf8e2043cf0866ac",
   "outputs": [],
   "execution_count": 320
  },
  {
   "metadata": {
    "ExecuteTime": {
     "end_time": "2024-08-11T21:46:54.422524Z",
     "start_time": "2024-08-11T21:46:54.159742Z"
    }
   },
   "cell_type": "code",
   "source": [
    "figure = plt.figure(figsize=(8, 8))\n",
    "rows, column = 3, 3\n",
    "for i in range(1, rows * column + 1):\n",
    "    key, sample_key = random.split(key)\n",
    "    sample_idx = int(random.randint(sample_key, shape=(1,), minval=0, maxval=len(training_dataset))[0])\n",
    "    img: Image.Image\n",
    "    label: str\n",
    "    (img, label) = training_dataset[sample_idx]\n",
    "    figure.add_subplot(rows, column, i)\n",
    "    plt.title(label)\n",
    "    plt.axis(\"off\")\n",
    "    plt.imshow(img.squeeze(), cmap=\"gray\")\n",
    "plt.show()"
   ],
   "id": "506ef324e7d3b3fd",
   "outputs": [
    {
     "data": {
      "text/plain": [
       "<Figure size 800x800 with 9 Axes>"
      ],
      "image/png": "[encoded data removed]"
     },
     "metadata": {},
     "output_type": "display_data"
    }
   ],
   "execution_count": 321
  },
  {
   "metadata": {
    "ExecuteTime": {
     "end_time": "2024-08-11T21:46:54.429753Z",
     "start_time": "2024-08-11T21:46:54.423435Z"
    }
   },
   "cell_type": "code",
   "source": [
    "trainloader = DataLoader(training_dataset, batch_size=BATCH_SIZE, shuffle=True)\n",
    "testloader = DataLoader(test_dataset, batch_size=BATCH_SIZE, shuffle=False)"
   ],
   "id": "c14b75fcd943278",
   "outputs": [],
   "execution_count": 322
  },
  {
   "metadata": {
    "ExecuteTime": {
     "end_time": "2024-08-11T21:46:54.451695Z",
     "start_time": "2024-08-11T21:46:54.431105Z"
    }
   },
   "cell_type": "code",
   "source": [
    "_x, _y = next(iter(trainloader))\n",
    "_x, _y = _x.numpy(), _y.numpy()\n",
    "print(f\"x.shape: {_x.shape}\")\n",
    "print(f\"y.shape: {_y.shape}\")\n",
    "print(f\"y values: {set(map(int, set(_y)))}\")"
   ],
   "id": "330190362df441c2",
   "outputs": [
    {
     "name": "stdout",
     "output_type": "stream",
     "text": [
      "x.shape: (64, 1, 28, 28)\n",
      "y.shape: (64,)\n",
      "y values: {0, 1, 2, 3, 4, 5, 6, 7, 8, 9}\n"
     ]
    }
   ],
   "execution_count": 323
  },
  {
   "metadata": {
    "ExecuteTime": {
     "end_time": "2024-08-11T21:46:54.458059Z",
     "start_time": "2024-08-11T21:46:54.452530Z"
    }
   },
   "cell_type": "code",
   "source": [
    "class CNN(eqx.Module):\n",
    "    layers: list\n",
    "\n",
    "    def __init__(self, key: PRNGKeyArray):\n",
    "        key1, key2, key3, key4, key5 = random.split(key, 5)\n",
    "        self.layers = [\n",
    "            eqx.nn.Conv2d(1, 16, kernel_size=4, key=key1),\n",
    "            eqx.nn.MaxPool2d(kernel_size=2),\n",
    "            jax.nn.relu,\n",
    "            eqx.nn.Conv2d(16, 8, kernel_size=4, key=key5),\n",
    "            eqx.nn.MaxPool2d(kernel_size=2),\n",
    "            jax.nn.relu,\n",
    "            jnp.ravel,\n",
    "            eqx.nn.Linear(3200, 1280, key=key2),\n",
    "            jax.nn.relu,\n",
    "            eqx.nn.Linear(1280, 128, key=key3),\n",
    "            jax.nn.relu,\n",
    "            eqx.nn.Linear(128, 64, key=key3),\n",
    "            jax.nn.relu,\n",
    "            eqx.nn.Linear(64, 10, key=key4),\n",
    "            jax.nn.log_sigmoid\n",
    "        ]\n",
    "\n",
    "    def __call__(self, x: Float[Array, \"1 28 28\"]) -> Float[Array, \"10\"]:\n",
    "        for l in self.layers:\n",
    "            x = l(x)\n",
    "        return x"
   ],
   "id": "195505afef27facc",
   "outputs": [],
   "execution_count": 324
  },
  {
   "metadata": {
    "ExecuteTime": {
     "end_time": "2024-08-11T21:46:54.932603Z",
     "start_time": "2024-08-11T21:46:54.458859Z"
    }
   },
   "cell_type": "code",
   "source": [
    "key, subkey = random.split(key)\n",
    "model = CNN(subkey)\n",
    "print(model)"
   ],
   "id": "30d068343c4a5e10",
   "outputs": [
    {
     "name": "stdout",
     "output_type": "stream",
     "text": [
      "CNN(\n",
      "  layers=[\n",
      "    Conv2d(\n",
      "      num_spatial_dims=2,\n",
      "      weight=f32[16,1,4,4],\n",
      "      bias=f32[16,1,1],\n",
      "      in_channels=1,\n",
      "      out_channels=16,\n",
      "      kernel_size=(4, 4),\n",
      "      stride=(1, 1),\n",
      "      padding=((0, 0), (0, 0)),\n",
      "      dilation=(1, 1),\n",
      "      groups=1,\n",
      "      use_bias=True,\n",
      "      padding_mode='ZEROS'\n",
      "    ),\n",
      "    MaxPool2d(\n",
      "      init=-inf,\n",
      "      operation=<function max>,\n",
      "      num_spatial_dims=2,\n",
      "      kernel_size=(2, 2),\n",
      "      stride=(1, 1),\n",
      "      padding=((0, 0), (0, 0)),\n",
      "      use_ceil=False\n",
      "    ),\n",
      "    <wrapped function relu>,\n",
      "    Conv2d(\n",
      "      num_spatial_dims=2,\n",
      "      weight=f32[8,16,4,4],\n",
      "      bias=f32[8,1,1],\n",
      "      in_channels=16,\n",
      "      out_channels=8,\n",
      "      kernel_size=(4, 4),\n",
      "      stride=(1, 1),\n",
      "      padding=((0, 0), (0, 0)),\n",
      "      dilation=(1, 1),\n",
      "      groups=1,\n",
      "      use_bias=True,\n",
      "      padding_mode='ZEROS'\n",
      "    ),\n",
      "    MaxPool2d(\n",
      "      init=-inf,\n",
      "      operation=<function max>,\n",
      "      num_spatial_dims=2,\n",
      "      kernel_size=(2, 2),\n",
      "      stride=(1, 1),\n",
      "      padding=((0, 0), (0, 0)),\n",
      "      use_ceil=False\n",
      "    ),\n",
      "    <wrapped function relu>,\n",
      "    <wrapped function ravel>,\n",
      "    Linear(\n",
      "      weight=f32[1280,3200],\n",
      "      bias=f32[1280],\n",
      "      in_features=3200,\n",
      "      out_features=1280,\n",
      "      use_bias=True\n",
      "    ),\n",
      "    <wrapped function relu>,\n",
      "    Linear(\n",
      "      weight=f32[128,1280],\n",
      "      bias=f32[128],\n",
      "      in_features=1280,\n",
      "      out_features=128,\n",
      "      use_bias=True\n",
      "    ),\n",
      "    <wrapped function relu>,\n",
      "    Linear(\n",
      "      weight=f32[64,128],\n",
      "      bias=f32[64],\n",
      "      in_features=128,\n",
      "      out_features=64,\n",
      "      use_bias=True\n",
      "    ),\n",
      "    <wrapped function relu>,\n",
      "    Linear(\n",
      "      weight=f32[10,64],\n",
      "      bias=f32[10],\n",
      "      in_features=64,\n",
      "      out_features=10,\n",
      "      use_bias=True\n",
      "    ),\n",
      "    <wrapped function log_sigmoid>\n",
      "  ]\n",
      ")\n"
     ]
    }
   ],
   "execution_count": 325
  },
  {
   "metadata": {
    "ExecuteTime": {
     "end_time": "2024-08-11T21:46:54.936904Z",
     "start_time": "2024-08-11T21:46:54.933486Z"
    }
   },
   "cell_type": "code",
   "source": [
    "@eqx.filter_jit\n",
    "def loss(model: CNN, x: Float[Array, \"batch 1 28 28\"], y: Int[Array, \"batch\"]) -> FloatScalar:\n",
    "    y_predict = jax.vmap(model)(x)\n",
    "    return optax.losses.softmax_cross_entropy_with_integer_labels(y_predict, y).mean()"
   ],
   "id": "5f8dac854557325c",
   "outputs": [],
   "execution_count": 326
  },
  {
   "metadata": {
    "ExecuteTime": {
     "end_time": "2024-08-11T21:46:57.241106Z",
     "start_time": "2024-08-11T21:46:54.937537Z"
    }
   },
   "cell_type": "code",
   "source": [
    "loss_value = loss(model, _x, _y)\n",
    "print(f\"loss value: {loss_value}\")\n",
    "output = jax.vmap(model)(_x)\n",
    "print(f\"output.shape: {output.shape}\")"
   ],
   "id": "3f7c71dcf24afb27",
   "outputs": [
    {
     "name": "stdout",
     "output_type": "stream",
     "text": [
      "loss value: 2.3080801963806152\n",
      "output.shape: (64, 10)\n"
     ]
    }
   ],
   "execution_count": 327
  },
  {
   "metadata": {
    "ExecuteTime": {
     "end_time": "2024-08-11T21:46:57.246799Z",
     "start_time": "2024-08-11T21:46:57.241843Z"
    }
   },
   "cell_type": "code",
   "source": [
    "@eqx.filter_jit\n",
    "def accuracy(model: CNN, x: Float[Array, \"batch 1 28 28\"], y: Int[Array, \"batch\"]) -> FloatScalar:\n",
    "    y_predict = jax.vmap(model)(x)\n",
    "    y_predict = jnp.argmax(y_predict, axis=1)\n",
    "    return jnp.mean(y_predict == y)\n",
    "\n",
    "\n",
    "def evaluation(model: CNN, testloader: DataLoader) -> tuple[FloatScalar, FloatScalar]:\n",
    "    avg_loss = 0\n",
    "    avg_accuracy = 0\n",
    "    for x, y in testloader:\n",
    "        x, y = x.numpy(), y.numpy()\n",
    "        avg_loss += loss(model, x, y)\n",
    "        avg_accuracy += accuracy(model, x, y)\n",
    "    return avg_loss / len(testloader), avg_accuracy / len(testloader)"
   ],
   "id": "abbf13ca950e4352",
   "outputs": [],
   "execution_count": 328
  },
  {
   "metadata": {
    "ExecuteTime": {
     "end_time": "2024-08-11T21:47:00.584297Z",
     "start_time": "2024-08-11T21:46:57.248335Z"
    }
   },
   "cell_type": "code",
   "source": "evaluation(model, testloader)",
   "id": "a70297213c90e65",
   "outputs": [
    {
     "data": {
      "text/plain": [
       "(Array(2.3038504, dtype=float32), Array(0.10111465, dtype=float32))"
      ]
     },
     "execution_count": 329,
     "metadata": {},
     "output_type": "execute_result"
    }
   ],
   "execution_count": 329
  },
  {
   "metadata": {
    "ExecuteTime": {
     "end_time": "2024-08-11T21:47:00.591980Z",
     "start_time": "2024-08-11T21:47:00.585181Z"
    }
   },
   "cell_type": "code",
   "source": [
    "optimizer = optax.adamw(LEARNING_RATE)\n",
    "\n",
    "\n",
    "@eqx.filter_jit\n",
    "def train_step(model: CNN, opt_state: PyTree, x: Float[Array, \"batch 1 28 28\"], y: Int[Array, \"batch\"]) -> tuple[\n",
    "    CNN, PyTree, FloatScalar]:\n",
    "    loss_value: FloatScalar\n",
    "    grad: Callable\n",
    "    loss_value, grad = eqx.filter_value_and_grad(loss)(model, x, y)\n",
    "    updates, opt_state = optimizer.update(grad, opt_state, model)\n",
    "    model = eqx.apply_updates(model, updates)\n",
    "    return model, opt_state, loss_value\n",
    "\n",
    "\n",
    "def train(model: CNN, trainloader: DataLoader, testloader: DataLoader, optim: optax.GradientTransformation,\n",
    "          epoches: int, print_interval: int) -> CNN:\n",
    "    opt_state = optimizer.init(eqx.filter(model, eqx.is_array))\n",
    "\n",
    "    def infinite_trainloader():\n",
    "        while True:\n",
    "            yield from trainloader\n",
    "\n",
    "    for epoch, (x, y) in zip(range(epoches), infinite_trainloader()):\n",
    "        x, y = x.numpy(), y.numpy()\n",
    "        x: np.ndarray\n",
    "        y: np.ndarray\n",
    "        model, opt_state, train_loss = train_step(model, opt_state, x, y)\n",
    "        if (epoch % print_interval) == 0 or (epoch == epoches - 1):\n",
    "            train_loss, train_accuracy = evaluation(model, trainloader)\n",
    "            print(\n",
    "                f\"Epoch {epoch} loss: {train_loss} accuracy: {train_accuracy}\"\n",
    "            )\n",
    "    return model"
   ],
   "id": "680825edd611cd82",
   "outputs": [],
   "execution_count": 330
  },
  {
   "metadata": {
    "ExecuteTime": {
     "end_time": "2024-08-11T21:49:18.793368Z",
     "start_time": "2024-08-11T21:47:00.592702Z"
    }
   },
   "cell_type": "code",
   "source": "model = train(model, trainloader, testloader, optimizer, EPOCHES, PRINT_INTERVAL)",
   "id": "e79e0ca0369d89dd",
   "outputs": [
    {
     "name": "stdout",
     "output_type": "stream",
     "text": [
      "Epoch 0 loss: 2.2984111309051514 accuracy: 0.16006463766098022\n",
      "Epoch 30 loss: 0.9134846925735474 accuracy: 0.6566997766494751\n",
      "Epoch 60 loss: 0.4967413544654846 accuracy: 0.8525620102882385\n",
      "Epoch 90 loss: 0.42954692244529724 accuracy: 0.8687366843223572\n",
      "Epoch 120 loss: 0.3183123469352722 accuracy: 0.906549870967865\n",
      "Epoch 150 loss: 0.34238067269325256 accuracy: 0.8918243646621704\n",
      "Epoch 180 loss: 0.23234769701957703 accuracy: 0.9305204153060913\n",
      "Epoch 210 loss: 0.20299343764781952 accuracy: 0.9381330013275146\n",
      "Epoch 240 loss: 0.16774339973926544 accuracy: 0.9479610919952393\n",
      "Epoch 270 loss: 0.18195632100105286 accuracy: 0.9446295499801636\n",
      "Epoch 300 loss: 0.14986638724803925 accuracy: 0.9569063186645508\n",
      "Epoch 330 loss: 0.12366022169589996 accuracy: 0.9627532362937927\n",
      "Epoch 360 loss: 0.11890830099582672 accuracy: 0.9635860919952393\n",
      "Epoch 390 loss: 0.12163611501455307 accuracy: 0.9621701836585999\n",
      "Epoch 420 loss: 0.11142462491989136 accuracy: 0.965535044670105\n",
      "Epoch 449 loss: 0.10526546835899353 accuracy: 0.9675506353378296\n"
     ]
    }
   ],
   "execution_count": 331
  },
  {
   "metadata": {
    "ExecuteTime": {
     "end_time": "2024-08-11T21:49:20.146879Z",
     "start_time": "2024-08-11T21:49:18.794317Z"
    }
   },
   "cell_type": "code",
   "source": "evaluation(model, testloader)",
   "id": "9f8f71ae1701b443",
   "outputs": [
    {
     "data": {
      "text/plain": [
       "(Array(0.10688587, dtype=float32), Array(0.966461, dtype=float32))"
      ]
     },
     "execution_count": 332,
     "metadata": {},
     "output_type": "execute_result"
    }
   ],
   "execution_count": 332
  },
  {
   "metadata": {
    "ExecuteTime": {
     "end_time": "2024-08-11T21:49:20.151391Z",
     "start_time": "2024-08-11T21:49:20.147887Z"
    }
   },
   "cell_type": "code",
   "source": [
    "my_handwriting = Image.open(\"misleading_6.png\").convert(\"L\")\n",
    "my_handwriting = np.array(my_handwriting)\n",
    "my_handwriting = normalize_data(my_handwriting)\n",
    "my_handwriting: torch.Tensor\n",
    "my_handwriting.shape"
   ],
   "id": "5cf7b738de3d1806",
   "outputs": [
    {
     "data": {
      "text/plain": [
       "torch.Size([1, 28, 28])"
      ]
     },
     "execution_count": 333,
     "metadata": {},
     "output_type": "execute_result"
    }
   ],
   "execution_count": 333
  },
  {
   "metadata": {
    "ExecuteTime": {
     "end_time": "2024-08-11T21:49:20.835832Z",
     "start_time": "2024-08-11T21:49:20.152080Z"
    }
   },
   "cell_type": "code",
   "source": [
    "prediction = model(jnp.array(my_handwriting))\n",
    "predicted_class = jnp.argmax(prediction)"
   ],
   "id": "497ca90386ddb4b2",
   "outputs": [],
   "execution_count": 334
  },
  {
   "metadata": {
    "ExecuteTime": {
     "end_time": "2024-08-11T21:49:20.893757Z",
     "start_time": "2024-08-11T21:49:20.836694Z"
    }
   },
   "cell_type": "code",
   "source": [
    "plt.title(predicted_class)\n",
    "plt.axis(\"off\")\n",
    "_ = plt.imshow(my_handwriting.squeeze(), cmap=\"gray\")"
   ],
   "id": "5da177bca124bdac",
   "outputs": [
    {
     "data": {
      "text/plain": [
       "<Figure size 640x480 with 1 Axes>"
      ],
      "image/png": "[encoded data removed]"
     },
     "metadata": {},
     "output_type": "display_data"
    }
   ],
   "execution_count": 335
  },
  {
   "metadata": {
    "ExecuteTime": {
     "end_time": "2024-08-11T21:49:20.900599Z",
     "start_time": "2024-08-11T21:49:20.894446Z"
    }
   },
   "cell_type": "code",
   "source": "prediction = model(jnp.array(my_handwriting))",
   "id": "c7d1e0c4852b9da6",
   "outputs": [],
   "execution_count": 336
  },
  {
   "metadata": {
    "ExecuteTime": {
     "end_time": "2024-08-11T21:49:20.906432Z",
     "start_time": "2024-08-11T21:49:20.901311Z"
    }
   },
   "cell_type": "code",
   "source": "jnp.argmax(prediction)",
   "id": "25b297aa0d498c89",
   "outputs": [
    {
     "data": {
      "text/plain": [
       "Array(8, dtype=int32)"
      ]
     },
     "execution_count": 337,
     "metadata": {},
     "output_type": "execute_result"
    }
   ],
   "execution_count": 337
  },
  {
   "metadata": {
    "ExecuteTime": {
     "end_time": "2024-08-11T21:49:20.914712Z",
     "start_time": "2024-08-11T21:49:20.907050Z"
    }
   },
   "cell_type": "code",
   "source": "0.9382995963096619 - 0.9323027729988098\n",
   "id": "840e3ef0d7743191",
   "outputs": [
    {
     "data": {
      "text/plain": [
       "0.005996823310852051"
      ]
     },
     "execution_count": 338,
     "metadata": {},
     "output_type": "execute_result"
    }
   ],
   "execution_count": 338
  },
  {
   "metadata": {
    "ExecuteTime": {
     "end_time": "2024-08-11T21:49:20.916593Z",
     "start_time": "2024-08-11T21:49:20.915281Z"
    }
   },
   "cell_type": "code",
   "source": "",
   "id": "927600f2e0296b3c",
   "outputs": [],
   "execution_count": 338
  }
 ],
 "metadata": {
  "kernelspec": {
   "display_name": "Python 3",
   "language": "python",
   "name": "python3"
  },
  "language_info": {
   "codemirror_mode": {
    "name": "ipython",
    "version": 2
   },
   "file_extension": ".py",
   "mimetype": "text/x-python",
   "name": "python",
   "nbconvert_exporter": "python",
   "pygments_lexer": "ipython2",
   "version": "2.7.6"
  }
 },
 "nbformat": 4,
 "nbformat_minor": 5
}
