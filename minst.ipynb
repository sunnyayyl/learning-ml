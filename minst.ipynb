{
 "cells": [
  {
   "cell_type": "code",
   "id": "initial_id",
   "metadata": {
    "collapsed": true,
    "ExecuteTime": {
     "end_time": "2024-09-06T14:56:51.764341Z",
     "start_time": "2024-09-06T14:56:48.235322Z"
    }
   },
   "source": [
    "import jax\n",
    "import jax.random as random\n",
    "import torch\n",
    "from torchvision import datasets, transforms\n",
    "import matplotlib.pyplot as plt\n",
    "from PIL import Image\n",
    "from torch.utils.data import DataLoader\n",
    "import equinox as eqx\n",
    "from jaxtyping import PRNGKeyArray, Float, Array, Int, PyTree\n",
    "import jax.numpy as jnp\n",
    "import numpy as np\n",
    "import jaxtyping\n",
    "import typeguard\n",
    "import optax\n",
    "from typing import Callable\n",
    "from functools import partial"
   ],
   "outputs": [],
   "execution_count": 1
  },
  {
   "metadata": {
    "ExecuteTime": {
     "end_time": "2024-09-06T14:56:51.770407Z",
     "start_time": "2024-09-06T14:56:51.767547Z"
    }
   },
   "cell_type": "code",
   "source": [
    "%load_ext jaxtyping\n",
    "%jaxtyping.typechecker typeguard.typechecked"
   ],
   "id": "8a8cb3bd6fce50f7",
   "outputs": [],
   "execution_count": 2
  },
  {
   "metadata": {
    "ExecuteTime": {
     "end_time": "2024-09-06T14:56:52.061979Z",
     "start_time": "2024-09-06T14:56:51.863759Z"
    }
   },
   "cell_type": "code",
   "source": "jax.devices()",
   "id": "a1dc32546b6a59a4",
   "outputs": [
    {
     "data": {
      "text/plain": [
       "[CudaDevice(id=0)]"
      ]
     },
     "execution_count": 3,
     "metadata": {},
     "output_type": "execute_result"
    }
   ],
   "execution_count": 3
  },
  {
   "metadata": {
    "ExecuteTime": {
     "end_time": "2024-09-06T14:56:52.200837Z",
     "start_time": "2024-09-06T14:56:52.078595Z"
    }
   },
   "cell_type": "code",
   "source": [
    "BATCH_SIZE = 64\n",
    "LEARNING_RATE = 6 * 10 ** -4  # 3e-4\n",
    "EPOCHES = 450\n",
    "PRINT_INTERVAL = 30\n",
    "SEED = 4567\n",
    "FloatScalar = Float[Array, \"\"]\n",
    "key = random.PRNGKey(SEED)"
   ],
   "id": "373928c320f4c2f4",
   "outputs": [
    {
     "name": "stderr",
     "output_type": "stream",
     "text": [
      "2024-09-06 15:56:52.138610: W external/xla/xla/service/gpu/nvptx_compiler.cc:836] The NVIDIA driver's CUDA version is 12.5 which is older than the PTX compiler version (12.6.20). Because the driver is older than the PTX compiler version, XLA is disabling parallel compilation, which may slow down compilation. You should update your NVIDIA driver or use the NVIDIA-provided CUDA forward compatibility packages.\n"
     ]
    }
   ],
   "execution_count": 4
  },
  {
   "metadata": {
    "ExecuteTime": {
     "end_time": "2024-09-06T14:56:52.301912Z",
     "start_time": "2024-09-06T14:56:52.206941Z"
    }
   },
   "cell_type": "code",
   "source": [
    "normalize_data = transforms.Compose([\n",
    "    transforms.ToTensor(),\n",
    "    transforms.Normalize((0.5,), (0.5,)),\n",
    "])\n",
    "training_dataset = datasets.MNIST(\n",
    "    root=\"data\",\n",
    "    train=True,\n",
    "    download=True,\n",
    "    transform=normalize_data\n",
    ")\n",
    "test_dataset = datasets.MNIST(\n",
    "    root=\"data\",\n",
    "    train=False,\n",
    "    download=True,\n",
    "    transform=normalize_data\n",
    ")\n"
   ],
   "id": "bf8e2043cf0866ac",
   "outputs": [],
   "execution_count": 5
  },
  {
   "metadata": {
    "ExecuteTime": {
     "end_time": "2024-09-06T14:56:53.299714Z",
     "start_time": "2024-09-06T14:56:52.397072Z"
    }
   },
   "cell_type": "code",
   "source": [
    "figure = plt.figure(figsize=(8, 8))\n",
    "rows, column = 3, 3\n",
    "for i in range(1, rows * column + 1):\n",
    "    key, sample_key = random.split(key)\n",
    "    sample_idx = int(random.randint(sample_key, shape=(1,), minval=0, maxval=len(training_dataset))[0])\n",
    "    img: Image.Image\n",
    "    label: str\n",
    "    (img, label) = training_dataset[sample_idx]\n",
    "    figure.add_subplot(rows, column, i)\n",
    "    plt.title(label)\n",
    "    plt.axis(\"off\")\n",
    "    plt.imshow(img.squeeze(), cmap=\"gray\")\n",
    "plt.show()"
   ],
   "id": "506ef324e7d3b3fd",
   "outputs": [
    {
     "data": {
      "text/plain": [
       "<Figure size 800x800 with 9 Axes>"
      ],
      "image/png": "[encoded data removed]"
     },
     "metadata": {},
     "output_type": "display_data"
    }
   ],
   "execution_count": 6
  },
  {
   "metadata": {
    "ExecuteTime": {
     "end_time": "2024-09-06T14:56:53.318816Z",
     "start_time": "2024-09-06T14:56:53.315826Z"
    }
   },
   "cell_type": "code",
   "source": [
    "trainloader = DataLoader(training_dataset, batch_size=BATCH_SIZE, shuffle=True)\n",
    "testloader = DataLoader(test_dataset, batch_size=BATCH_SIZE, shuffle=False)"
   ],
   "id": "c14b75fcd943278",
   "outputs": [],
   "execution_count": 7
  },
  {
   "metadata": {
    "ExecuteTime": {
     "end_time": "2024-09-06T14:56:53.381857Z",
     "start_time": "2024-09-06T14:56:53.360586Z"
    }
   },
   "cell_type": "code",
   "source": [
    "_x, _y = next(iter(trainloader))\n",
    "_x, _y = _x.numpy(), _y.numpy()\n",
    "print(f\"x.shape: {_x.shape}\")\n",
    "print(f\"y.shape: {_y.shape}\")\n",
    "print(f\"y values: {set(map(int, set(_y)))}\")"
   ],
   "id": "330190362df441c2",
   "outputs": [
    {
     "name": "stdout",
     "output_type": "stream",
     "text": [
      "x.shape: (64, 1, 28, 28)\n",
      "y.shape: (64,)\n",
      "y values: {0, 1, 2, 3, 4, 5, 6, 7, 8, 9}\n"
     ]
    }
   ],
   "execution_count": 8
  },
  {
   "metadata": {
    "ExecuteTime": {
     "end_time": "2024-09-06T14:56:53.423129Z",
     "start_time": "2024-09-06T14:56:53.418091Z"
    }
   },
   "cell_type": "code",
   "source": [
    "class CNN(eqx.Module):\n",
    "    layers: list\n",
    "\n",
    "    def __init__(self, key: PRNGKeyArray):\n",
    "        key1, key2, key3, key4, key5 = random.split(key, 5)\n",
    "        self.layers = [\n",
    "            eqx.nn.Conv2d(1, 3, kernel_size=4, key=key1),\n",
    "            eqx.nn.MaxPool2d(kernel_size=2),\n",
    "            jax.nn.relu,\n",
    "            jnp.ravel,\n",
    "            eqx.nn.Linear(1728, 512, key=key3),\n",
    "            jax.nn.relu,\n",
    "            eqx.nn.Linear(512, 64, key=key4),\n",
    "            jax.nn.relu,\n",
    "            eqx.nn.Linear(64, 10, key=key4),\n",
    "            jax.nn.log_sigmoid\n",
    "        ]\n",
    "\n",
    "    def __call__(self, x: Float[Array, \"1 28 28\"]) -> Float[Array, \"10\"]:\n",
    "        for l in self.layers:\n",
    "            x = l(x)\n",
    "        return x"
   ],
   "id": "195505afef27facc",
   "outputs": [],
   "execution_count": 9
  },
  {
   "metadata": {
    "ExecuteTime": {
     "end_time": "2024-09-06T14:56:54.780835Z",
     "start_time": "2024-09-06T14:56:53.470134Z"
    }
   },
   "cell_type": "code",
   "source": [
    "key, subkey = random.split(key)\n",
    "model = CNN(subkey)\n",
    "print(model)"
   ],
   "id": "30d068343c4a5e10",
   "outputs": [
    {
     "name": "stdout",
     "output_type": "stream",
     "text": [
      "CNN(\n",
      "  layers=[\n",
      "    Conv2d(\n",
      "      num_spatial_dims=2,\n",
      "      weight=f32[3,1,4,4],\n",
      "      bias=f32[3,1,1],\n",
      "      in_channels=1,\n",
      "      out_channels=3,\n",
      "      kernel_size=(4, 4),\n",
      "      stride=(1, 1),\n",
      "      padding=((0, 0), (0, 0)),\n",
      "      dilation=(1, 1),\n",
      "      groups=1,\n",
      "      use_bias=True,\n",
      "      padding_mode='ZEROS'\n",
      "    ),\n",
      "    MaxPool2d(\n",
      "      init=-inf,\n",
      "      operation=<function max>,\n",
      "      num_spatial_dims=2,\n",
      "      kernel_size=(2, 2),\n",
      "      stride=(1, 1),\n",
      "      padding=((0, 0), (0, 0)),\n",
      "      use_ceil=False\n",
      "    ),\n",
      "    <wrapped function relu>,\n",
      "    <wrapped function ravel>,\n",
      "    Linear(\n",
      "      weight=f32[512,1728],\n",
      "      bias=f32[512],\n",
      "      in_features=1728,\n",
      "      out_features=512,\n",
      "      use_bias=True\n",
      "    ),\n",
      "    <wrapped function relu>,\n",
      "    Linear(\n",
      "      weight=f32[64,512],\n",
      "      bias=f32[64],\n",
      "      in_features=512,\n",
      "      out_features=64,\n",
      "      use_bias=True\n",
      "    ),\n",
      "    <wrapped function relu>,\n",
      "    Linear(\n",
      "      weight=f32[10,64],\n",
      "      bias=f32[10],\n",
      "      in_features=64,\n",
      "      out_features=10,\n",
      "      use_bias=True\n",
      "    ),\n",
      "    <wrapped function log_sigmoid>\n",
      "  ]\n",
      ")\n"
     ]
    }
   ],
   "execution_count": 10
  },
  {
   "metadata": {
    "ExecuteTime": {
     "end_time": "2024-09-06T14:56:54.801299Z",
     "start_time": "2024-09-06T14:56:54.797833Z"
    }
   },
   "cell_type": "code",
   "source": [
    "@eqx.filter_jit\n",
    "def loss(model: CNN, x: Float[Array, \"batch 1 28 28\"], y: Int[Array, \"batch\"]) -> FloatScalar:\n",
    "    y_predict = jax.vmap(model)(x)\n",
    "    return optax.losses.softmax_cross_entropy_with_integer_labels(y_predict, y).mean()"
   ],
   "id": "5f8dac854557325c",
   "outputs": [],
   "execution_count": 11
  },
  {
   "metadata": {
    "ExecuteTime": {
     "end_time": "2024-09-06T14:56:57.097024Z",
     "start_time": "2024-09-06T14:56:54.843032Z"
    }
   },
   "cell_type": "code",
   "source": [
    "loss_value = loss(model, _x, _y)\n",
    "print(f\"loss value: {loss_value}\")\n",
    "output = jax.vmap(model)(_x)\n",
    "print(f\"output.shape: {output.shape}\")"
   ],
   "id": "3f7c71dcf24afb27",
   "outputs": [
    {
     "name": "stdout",
     "output_type": "stream",
     "text": [
      "loss value: 2.3057570457458496\n",
      "output.shape: (64, 10)\n"
     ]
    }
   ],
   "execution_count": 12
  },
  {
   "metadata": {
    "ExecuteTime": {
     "end_time": "2024-09-06T14:56:57.120834Z",
     "start_time": "2024-09-06T14:56:57.116201Z"
    }
   },
   "cell_type": "code",
   "source": [
    "@eqx.filter_jit\n",
    "def accuracy(model: CNN, x: Float[Array, \"batch 1 28 28\"], y: Int[Array, \"batch\"]) -> FloatScalar:\n",
    "    y_predict = jax.vmap(model)(x)\n",
    "    y_predict = jnp.argmax(y_predict, axis=1)\n",
    "    return jnp.mean(y_predict == y)\n",
    "\n",
    "\n",
    "def evaluation(model: CNN, testloader: DataLoader) -> tuple[FloatScalar, FloatScalar]:\n",
    "    avg_loss = 0\n",
    "    avg_accuracy = 0\n",
    "    for x, y in testloader:\n",
    "        x, y = x.numpy(), y.numpy()\n",
    "        avg_loss += loss(model, x, y)\n",
    "        avg_accuracy += accuracy(model, x, y)\n",
    "    return avg_loss / len(testloader), avg_accuracy / len(testloader)"
   ],
   "id": "abbf13ca950e4352",
   "outputs": [],
   "execution_count": 13
  },
  {
   "metadata": {
    "ExecuteTime": {
     "end_time": "2024-09-06T14:57:00.449977Z",
     "start_time": "2024-09-06T14:56:57.160446Z"
    }
   },
   "cell_type": "code",
   "source": "evaluation(model, testloader)",
   "id": "a70297213c90e65",
   "outputs": [
    {
     "data": {
      "text/plain": [
       "(Array(2.3016832, dtype=float32), Array(0.12888137, dtype=float32))"
      ]
     },
     "execution_count": 14,
     "metadata": {},
     "output_type": "execute_result"
    }
   ],
   "execution_count": 14
  },
  {
   "metadata": {
    "ExecuteTime": {
     "end_time": "2024-09-06T14:57:00.476811Z",
     "start_time": "2024-09-06T14:57:00.470001Z"
    }
   },
   "cell_type": "code",
   "source": [
    "optimizer = optax.adamw(LEARNING_RATE)\n",
    "train_history = []\n",
    "test_history = []\n",
    "\n",
    "\n",
    "@eqx.filter_jit\n",
    "def train_step(model: CNN, opt_state: PyTree, x: Float[Array, \"batch 1 28 28\"], y: Int[Array, \"batch\"]) -> tuple[\n",
    "    CNN, PyTree, FloatScalar]:\n",
    "    loss_value: FloatScalar\n",
    "    grad: Callable\n",
    "    loss_value, grad = eqx.filter_value_and_grad(loss)(model, x, y)\n",
    "    updates, opt_state = optimizer.update(grad, opt_state, model)\n",
    "    model = eqx.apply_updates(model, updates)\n",
    "    return model, opt_state, loss_value\n",
    "\n",
    "\n",
    "def train(model: CNN, trainloader: DataLoader, testloader: DataLoader, optim: optax.GradientTransformation,\n",
    "          epoches: int, print_interval: int) -> CNN:\n",
    "    opt_state = optimizer.init(eqx.filter(model, eqx.is_array))\n",
    "\n",
    "    def infinite_trainloader():\n",
    "        while True:\n",
    "            yield from trainloader\n",
    "\n",
    "    for epoch, (x, y) in zip(range(epoches), infinite_trainloader()):\n",
    "        x, y = x.numpy(), y.numpy()\n",
    "        x: np.ndarray\n",
    "        y: np.ndarray\n",
    "        model, opt_state, train_loss = train_step(model, opt_state, x, y)\n",
    "        if (epoch % print_interval) == 0 or (epoch == epoches - 1):\n",
    "            train_loss, train_accuracy = evaluation(model, trainloader)\n",
    "            print(\n",
    "                f\"Epoch {epoch} loss: {train_loss} accuracy: {train_accuracy}\"\n",
    "            )\n",
    "            test_loss, test_accuracy = evaluation(model, testloader)\n",
    "            train_history.append(train_loss)\n",
    "            test_history.append(test_loss)\n",
    "    return model"
   ],
   "id": "680825edd611cd82",
   "outputs": [],
   "execution_count": 15
  },
  {
   "metadata": {
    "ExecuteTime": {
     "end_time": "2024-09-06T14:59:37.807823Z",
     "start_time": "2024-09-06T14:57:00.514877Z"
    }
   },
   "cell_type": "code",
   "source": "model = train(model, trainloader, testloader, optimizer, EPOCHES, PRINT_INTERVAL)",
   "id": "e79e0ca0369d89dd",
   "outputs": [
    {
     "name": "stdout",
     "output_type": "stream",
     "text": [
      "Epoch 0 loss: 2.2882139682769775 accuracy: 0.1819196492433548\n",
      "Epoch 30 loss: 0.9872490763664246 accuracy: 0.7259628176689148\n",
      "Epoch 60 loss: 0.556846022605896 accuracy: 0.8357709646224976\n",
      "Epoch 90 loss: 0.4739975035190582 accuracy: 0.8483642339706421\n",
      "Epoch 120 loss: 0.47045162320137024 accuracy: 0.8602412343025208\n",
      "Epoch 150 loss: 0.3478374183177948 accuracy: 0.8983542323112488\n",
      "Epoch 180 loss: 0.33852675557136536 accuracy: 0.9009361863136292\n",
      "Epoch 210 loss: 0.341585248708725 accuracy: 0.8995702266693115\n",
      "Epoch 240 loss: 0.33187657594680786 accuracy: 0.9061000943183899\n",
      "Epoch 270 loss: 0.283145010471344 accuracy: 0.9155950546264648\n",
      "Epoch 300 loss: 0.2890709638595581 accuracy: 0.9100646376609802\n",
      "Epoch 330 loss: 0.2543315291404724 accuracy: 0.9262393712997437\n",
      "Epoch 360 loss: 0.2514239251613617 accuracy: 0.9265891909599304\n",
      "Epoch 390 loss: 0.23799782991409302 accuracy: 0.9297041893005371\n",
      "Epoch 420 loss: 0.23901040852069855 accuracy: 0.9281550049781799\n",
      "Epoch 449 loss: 0.2941831052303314 accuracy: 0.916111409664154\n"
     ]
    }
   ],
   "execution_count": 16
  },
  {
   "metadata": {
    "ExecuteTime": {
     "end_time": "2024-09-06T14:59:39.184480Z",
     "start_time": "2024-09-06T14:59:37.831165Z"
    }
   },
   "cell_type": "code",
   "source": "evaluation(model, testloader)",
   "id": "9f8f71ae1701b443",
   "outputs": [
    {
     "data": {
      "text/plain": [
       "(Array(0.28650647, dtype=float32), Array(0.91948646, dtype=float32))"
      ]
     },
     "execution_count": 17,
     "metadata": {},
     "output_type": "execute_result"
    }
   ],
   "execution_count": 17
  },
  {
   "metadata": {
    "ExecuteTime": {
     "end_time": "2024-09-06T14:59:39.255463Z",
     "start_time": "2024-09-06T14:59:39.251659Z"
    }
   },
   "cell_type": "code",
   "source": [
    "my_handwriting = Image.open(\"my-handwriting/misleading_6.png\").convert(\"L\")\n",
    "my_handwriting = np.array(my_handwriting)\n",
    "my_handwriting = normalize_data(my_handwriting)\n",
    "my_handwriting: torch.Tensor\n",
    "my_handwriting.shape"
   ],
   "id": "5cf7b738de3d1806",
   "outputs": [
    {
     "data": {
      "text/plain": [
       "torch.Size([1, 28, 28])"
      ]
     },
     "execution_count": 18,
     "metadata": {},
     "output_type": "execute_result"
    }
   ],
   "execution_count": 18
  },
  {
   "metadata": {
    "ExecuteTime": {
     "end_time": "2024-09-06T14:59:39.908271Z",
     "start_time": "2024-09-06T14:59:39.354195Z"
    }
   },
   "cell_type": "code",
   "source": [
    "prediction = model(jnp.array(my_handwriting))\n",
    "predicted_class = jnp.argmax(prediction)"
   ],
   "id": "497ca90386ddb4b2",
   "outputs": [],
   "execution_count": 19
  },
  {
   "metadata": {
    "ExecuteTime": {
     "end_time": "2024-09-06T14:59:39.992073Z",
     "start_time": "2024-09-06T14:59:39.935504Z"
    }
   },
   "cell_type": "code",
   "source": [
    "plt.title(predicted_class)\n",
    "plt.axis(\"off\")\n",
    "_ = plt.imshow(my_handwriting.squeeze(), cmap=\"gray\")"
   ],
   "id": "5da177bca124bdac",
   "outputs": [
    {
     "data": {
      "text/plain": [
       "<Figure size 640x480 with 1 Axes>"
      ],
      "image/png": "[encoded data removed]"
     },
     "metadata": {},
     "output_type": "display_data"
    }
   ],
   "execution_count": 20
  },
  {
   "metadata": {
    "ExecuteTime": {
     "end_time": "2024-09-06T15:00:01.679706Z",
     "start_time": "2024-09-06T15:00:01.347775Z"
    }
   },
   "cell_type": "code",
   "source": [
    "figure = plt.figure(figsize=(8, 8))\n",
    "rows, column = 3, 3\n",
    "for i in range(1, rows * column + 1):\n",
    "    key, sample_key = random.split(key)\n",
    "    sample_idx = int(random.randint(sample_key, shape=(1,), minval=0, maxval=len(training_dataset))[0])\n",
    "    img: Image.Image\n",
    "    label: str\n",
    "    (img, label) = training_dataset[sample_idx]\n",
    "    figure.add_subplot(rows, column, i)\n",
    "    plt.title(str(jnp.argmax(model(jnp.array(img)))))\n",
    "    print(model(jnp.array(img)))\n",
    "    plt.axis(\"off\")\n",
    "    plt.imshow(img.squeeze(), cmap=\"gray\")\n",
    "\n",
    "plt.show()"
   ],
   "id": "4eb049d70f314cdc",
   "outputs": [
    {
     "name": "stdout",
     "output_type": "stream",
     "text": [
      "[-10.6293     -13.358962    -7.7851524  -11.3088665   -8.777529\n",
      "  -7.896103    -0.75967455 -16.966934   -10.552841   -15.154986  ]\n",
      "[ -0.20106637 -18.058578    -9.989372   -11.100574   -17.61243\n",
      "  -4.142379   -10.750277   -16.641401    -9.80455    -16.586369  ]\n",
      "[-12.9053755 -17.81417   -12.480833  -11.6695     -1.1434015  -9.167398\n",
      "  -9.396741   -8.739649  -11.775618   -8.510422 ]\n",
      "[ -8.568826   -9.603228   -7.1612916  -6.5511265 -17.04747    -6.414368\n",
      " -11.943375  -13.643073   -6.302095  -12.794846 ]\n",
      "[-10.007201 -15.116169 -10.554882  -9.579443 -12.035221  -5.463549\n",
      "  -2.851194 -21.280432  -8.825839 -16.964602]\n",
      "[-14.147155  -11.504467  -14.300132   -6.7787256  -7.2653065  -6.563489\n",
      " -13.461773   -8.151671   -7.3063354  -4.583295 ]\n",
      "[ -5.868379  -17.806858  -10.447578  -12.585319   -9.051467   -6.9581842\n",
      "  -1.1290879 -16.266567  -13.751638  -15.036534 ]\n",
      "[-14.271669   -8.891445   -1.6065333  -4.480253  -15.36396    -9.693755\n",
      " -10.464786  -10.238886   -9.105764  -13.706759 ]\n",
      "[ -1.2290874 -16.543858  -10.414786   -8.130121  -13.354589   -5.34604\n",
      " -10.213227  -13.873119  -11.61569   -13.785467 ]\n"
     ]
    },
    {
     "data": {
      "text/plain": [
       "<Figure size 800x800 with 9 Axes>"
      ],
      "image/png": "[encoded data removed]"
     },
     "metadata": {},
     "output_type": "display_data"
    }
   ],
   "execution_count": 25
  },
  {
   "metadata": {
    "ExecuteTime": {
     "end_time": "2024-09-06T14:59:40.462012Z",
     "start_time": "2024-09-06T14:59:40.457434Z"
    }
   },
   "cell_type": "code",
   "source": "prediction = model(jnp.array(my_handwriting))",
   "id": "c7d1e0c4852b9da6",
   "outputs": [],
   "execution_count": 22
  },
  {
   "metadata": {
    "ExecuteTime": {
     "end_time": "2024-09-06T14:59:40.508021Z",
     "start_time": "2024-09-06T14:59:40.505069Z"
    }
   },
   "cell_type": "code",
   "source": "jnp.argmax(prediction)",
   "id": "25b297aa0d498c89",
   "outputs": [
    {
     "data": {
      "text/plain": [
       "Array(3, dtype=int32)"
      ]
     },
     "execution_count": 23,
     "metadata": {},
     "output_type": "execute_result"
    }
   ],
   "execution_count": 23
  },
  {
   "metadata": {
    "ExecuteTime": {
     "end_time": "2024-09-06T14:59:40.632624Z",
     "start_time": "2024-09-06T14:59:40.551763Z"
    }
   },
   "cell_type": "code",
   "source": [
    "plt.title(\"Train Graph\")\n",
    "plt.plot(train_history, label=\"train\")\n",
    "plt.plot(test_history, label=\"test\")\n",
    "plt.xlabel(f\"Epoch (Every {PRINT_INTERVAL} epoch)\")\n",
    "plt.ylabel(\"Loss\")\n",
    "plt.legend()\n",
    "plt.show()"
   ],
   "id": "840e3ef0d7743191",
   "outputs": [
    {
     "data": {
      "text/plain": [
       "<Figure size 640x480 with 1 Axes>"
      ],
      "image/png": "[encoded data removed]"
     },
     "metadata": {},
     "output_type": "display_data"
    }
   ],
   "execution_count": 24
  },
  {
   "metadata": {
    "ExecuteTime": {
     "end_time": "2024-09-06T14:59:40.661401Z",
     "start_time": "2024-09-06T14:59:40.659944Z"
    }
   },
   "cell_type": "code",
   "source": "",
   "id": "927600f2e0296b3c",
   "outputs": [],
   "execution_count": null
  },
  {
   "metadata": {
    "ExecuteTime": {
     "end_time": "2024-09-06T14:59:40.702511Z",
     "start_time": "2024-09-06T14:59:40.701066Z"
    }
   },
   "cell_type": "code",
   "source": "",
   "id": "2636ba98e8f7b283",
   "outputs": [],
   "execution_count": null
  }
 ],
 "metadata": {
  "kernelspec": {
   "display_name": "Python 3",
   "language": "python",
   "name": "python3"
  },
  "language_info": {
   "codemirror_mode": {
    "name": "ipython",
    "version": 2
   },
   "file_extension": ".py",
   "mimetype": "text/x-python",
   "name": "python",
   "nbconvert_exporter": "python",
   "pygments_lexer": "ipython2",
   "version": "2.7.6"
  }
 },
 "nbformat": 4,
 "nbformat_minor": 5
}
