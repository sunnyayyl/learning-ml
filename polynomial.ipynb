{
 "cells": [
  {
   "cell_type": "code",
   "id": "initial_id",
   "metadata": {
    "collapsed": true,
    "ExecuteTime": {
     "end_time": "2024-08-26T18:06:46.693104Z",
     "start_time": "2024-08-26T18:06:45.967505Z"
    }
   },
   "source": [
    "import jax\n",
    "\n",
    "from tools import generate_data\n",
    "from jax import random, jit\n",
    "import jax.numpy as jnp\n",
    "import equinox as eqx\n",
    "from jaxtyping import Float, Array, PRNGKeyArray, PyTree\n",
    "from typing import Callable\n",
    "from optax import squared_error\n",
    "import optax"
   ],
   "outputs": [],
   "execution_count": 3
  },
  {
   "metadata": {
    "ExecuteTime": {
     "end_time": "2024-08-26T18:06:46.707954Z",
     "start_time": "2024-08-26T18:06:46.704960Z"
    }
   },
   "cell_type": "code",
   "source": [
    "%load_ext jaxtyping\n",
    "%jaxtyping.typechecker typeguard.typechecked"
   ],
   "id": "e8220c5120f347ec",
   "outputs": [],
   "execution_count": 4
  },
  {
   "metadata": {
    "ExecuteTime": {
     "end_time": "2024-08-26T18:06:47.270011Z",
     "start_time": "2024-08-26T18:06:46.774846Z"
    }
   },
   "cell_type": "code",
   "source": [
    "FloatScalar = Float[Array, \"\"]\n",
    "key = random.key(1234)"
   ],
   "id": "796018e9641591f8",
   "outputs": [
    {
     "name": "stderr",
     "output_type": "stream",
     "text": [
      "2024-08-26 19:06:47.077605: W external/xla/xla/service/gpu/nvptx_compiler.cc:836] The NVIDIA driver's CUDA version is 12.5 which is older than the PTX compiler version (12.6.20). Because the driver is older than the PTX compiler version, XLA is disabling parallel compilation, which may slow down compilation. You should update your NVIDIA driver or use the NVIDIA-provided CUDA forward compatibility packages.\n"
     ]
    }
   ],
   "execution_count": 5
  },
  {
   "metadata": {
    "ExecuteTime": {
     "end_time": "2024-08-26T18:06:48.226843Z",
     "start_time": "2024-08-26T18:06:47.372294Z"
    }
   },
   "cell_type": "code",
   "source": [
    "key, x, y = generate_data(key, (1000,), -1000, 1000, lambda x: 3 * jnp.pow(x, 3) + 2 * jnp.pow(x, 2) + x * 0.5 + 10,\n",
    "                          -100,\n",
    "                          100)\n",
    "x = x.reshape(-1, 1)\n",
    "y = y.reshape(-1, 1)\n",
    "x[0]"
   ],
   "id": "3b3f7cb57d1e582",
   "outputs": [
    {
     "data": {
      "text/plain": [
       "Array([-1026.215], dtype=float32)"
      ]
     },
     "execution_count": 6,
     "metadata": {},
     "output_type": "execute_result"
    }
   ],
   "execution_count": 6
  },
  {
   "metadata": {
    "ExecuteTime": {
     "end_time": "2024-08-26T18:06:48.249301Z",
     "start_time": "2024-08-26T18:06:48.246821Z"
    }
   },
   "cell_type": "code",
   "source": "print(x.shape, y.shape)",
   "id": "78ffa14361a1e9fc",
   "outputs": [
    {
     "name": "stdout",
     "output_type": "stream",
     "text": [
      "(1000, 1) (1000, 1)\n"
     ]
    }
   ],
   "execution_count": 7
  },
  {
   "metadata": {
    "ExecuteTime": {
     "end_time": "2024-08-26T18:06:48.332808Z",
     "start_time": "2024-08-26T18:06:48.328124Z"
    }
   },
   "cell_type": "code",
   "source": [
    "class ZScoreNormalizer(eqx.Module):\n",
    "    mean: Float[Array, \"feature_size\"]\n",
    "    std: Float[Array, \"feature_size\"]\n",
    "\n",
    "    def __init__(self, x_train: Float[Array, \"batch_size feature_size\"], axis: int = 0):\n",
    "        self.mean = x_train.mean(axis)\n",
    "        self.std = x_train.std(axis)\n",
    "\n",
    "    @jit\n",
    "    def __call__(self, x: Float[Array, \"feature_size\"]) -> Float[Array, \"feature_size\"]:\n",
    "        return (x - self.mean) / self.std"
   ],
   "id": "2fb7edefb70cf76e",
   "outputs": [],
   "execution_count": 8
  },
  {
   "metadata": {
    "ExecuteTime": {
     "end_time": "2024-08-26T18:06:48.516776Z",
     "start_time": "2024-08-26T18:06:48.376935Z"
    }
   },
   "cell_type": "code",
   "source": [
    "_norm = ZScoreNormalizer(x)\n",
    "print(_norm(x[100]))\n",
    "print(x[100])"
   ],
   "id": "e88feb83f32575b1",
   "outputs": [
    {
     "name": "stdout",
     "output_type": "stream",
     "text": [
      "[-1.1722205]\n",
      "[-720.9978]\n"
     ]
    }
   ],
   "execution_count": 9
  },
  {
   "metadata": {},
   "cell_type": "markdown",
   "source": "",
   "id": "1d7657c5b22d5eb2"
  },
  {
   "metadata": {
    "ExecuteTime": {
     "end_time": "2024-08-26T18:06:48.556847Z",
     "start_time": "2024-08-26T18:06:48.552434Z"
    }
   },
   "cell_type": "code",
   "source": [
    "class Model(eqx.Module):\n",
    "    layers: list[Callable]\n",
    "\n",
    "    def __init__(self, x: Float[Array, \"batch_size feature_size\"], *, key: PRNGKeyArray):\n",
    "        key1, key2 = random.split(key, 2)\n",
    "        self.layers = [\n",
    "            ZScoreNormalizer(x),\n",
    "            eqx.nn.Linear(1, 10, key=key1),\n",
    "            jax.nn.relu,\n",
    "            eqx.nn.Linear(10, 1, key=key2),\n",
    "        ]\n",
    "\n",
    "    def __call__(self, x: Float[Array, \"feature_size\"]) -> Float[Array, \"1\"]:\n",
    "        for layer in self.layers:\n",
    "            x = layer(x)\n",
    "        return x\n"
   ],
   "id": "bc099dfe433f2ae1",
   "outputs": [],
   "execution_count": 10
  },
  {
   "metadata": {
    "ExecuteTime": {
     "end_time": "2024-08-26T18:06:48.580908Z",
     "start_time": "2024-08-26T18:06:48.579337Z"
    }
   },
   "cell_type": "code",
   "source": "",
   "id": "656847c68c857bed",
   "outputs": [],
   "execution_count": null
  },
  {
   "metadata": {
    "ExecuteTime": {
     "end_time": "2024-08-26T18:06:49.270004Z",
     "start_time": "2024-08-26T18:06:48.624147Z"
    }
   },
   "cell_type": "code",
   "source": [
    "key, subkey = random.split(key)\n",
    "model = Model(x, key=subkey)"
   ],
   "id": "a2f341641649f69b",
   "outputs": [],
   "execution_count": 11
  },
  {
   "metadata": {
    "ExecuteTime": {
     "end_time": "2024-08-26T18:17:50.519742Z",
     "start_time": "2024-08-26T18:17:50.516544Z"
    }
   },
   "cell_type": "code",
   "source": "print(model)",
   "id": "364136849ec0b50b",
   "outputs": [
    {
     "name": "stdout",
     "output_type": "stream",
     "text": [
      "Model(\n",
      "  layers=[\n",
      "    ZScoreNormalizer(mean=f32[1], std=f32[1]),\n",
      "    Linear(\n",
      "      weight=f32[10,1],\n",
      "      bias=f32[10],\n",
      "      in_features=1,\n",
      "      out_features=10,\n",
      "      use_bias=True\n",
      "    ),\n",
      "    <wrapped function relu>,\n",
      "    Linear(\n",
      "      weight=f32[1,10],\n",
      "      bias=f32[1],\n",
      "      in_features=10,\n",
      "      out_features=1,\n",
      "      use_bias=True\n",
      "    )\n",
      "  ]\n",
      ")\n"
     ]
    }
   ],
   "execution_count": 21
  },
  {
   "metadata": {
    "ExecuteTime": {
     "end_time": "2024-08-26T18:06:49.343137Z",
     "start_time": "2024-08-26T18:06:49.339614Z"
    }
   },
   "cell_type": "code",
   "source": [
    "@eqx.filter_jit\n",
    "def loss(model: Model, x: Float[Array, \"batch_size feature_size\"], y: Float[Array, \"batch_size 1\"]) -> FloatScalar:\n",
    "    y_pred = jax.vmap(model)(x)\n",
    "    return jnp.mean(squared_error(y_pred, y))"
   ],
   "id": "c731018a80f01130",
   "outputs": [],
   "execution_count": 13
  },
  {
   "metadata": {
    "ExecuteTime": {
     "end_time": "2024-08-26T18:06:49.466189Z",
     "start_time": "2024-08-26T18:06:49.390345Z"
    }
   },
   "cell_type": "code",
   "source": [
    "loss_value = loss(model, x, y)\n",
    "print(f\"Loss: {loss_value}\")"
   ],
   "id": "aa34b1e36cc2cfa9",
   "outputs": [
    {
     "name": "stdout",
     "output_type": "stream",
     "text": [
      "Loss: 1.3573165930418012e+18\n"
     ]
    }
   ],
   "execution_count": 14
  },
  {
   "metadata": {
    "ExecuteTime": {
     "end_time": "2024-08-26T18:06:49.536238Z",
     "start_time": "2024-08-26T18:06:49.531835Z"
    }
   },
   "cell_type": "code",
   "source": [
    "@eqx.filter_jit\n",
    "def accuracy(model: Model, x: Float[Array, \"batch_size feature_size\"], y: Float[Array, \"batch_size 1\"]) -> FloatScalar:\n",
    "    y_pred = jax.vmap(model)(x)\n",
    "    return jnp.mean(jnp.abs(y_pred - y))\n",
    "\n",
    "\n",
    "def evaluation(model: Model, x: Float[Array, \"batch_size feature_size\"], y: Float[Array, \"batch_size 1\"]) -> tuple[\n",
    "    FloatScalar, FloatScalar]:\n",
    "    return loss(model, x, y), accuracy(model, x, y)"
   ],
   "id": "f2bcac0f026daaf8",
   "outputs": [],
   "execution_count": 15
  },
  {
   "metadata": {
    "ExecuteTime": {
     "end_time": "2024-08-26T18:06:49.653699Z",
     "start_time": "2024-08-26T18:06:49.580989Z"
    }
   },
   "cell_type": "code",
   "source": "evaluation(model, x, y)",
   "id": "fe0e896e164153d0",
   "outputs": [
    {
     "data": {
      "text/plain": [
       "(Array(1.3573166e+18, dtype=float32), Array(7.8228506e+08, dtype=float32))"
      ]
     },
     "execution_count": 16,
     "metadata": {},
     "output_type": "execute_result"
    }
   ],
   "execution_count": 16
  },
  {
   "metadata": {
    "ExecuteTime": {
     "end_time": "2024-08-26T18:07:26.578510Z",
     "start_time": "2024-08-26T18:07:26.572898Z"
    }
   },
   "cell_type": "code",
   "source": [
    "optimizer = optax.adam(10)\n",
    "\n",
    "\n",
    "@eqx.filter_jit\n",
    "def train_step(model: Model, opt_state: PyTree, x: Float[Array, \"batch_size feature_size\"],\n",
    "               y: Float[Array, \"batch_size 1\"]) -> tuple[Model, PyTree, FloatScalar]:\n",
    "    loss_value, grad = eqx.filter_value_and_grad(loss)(model, x, y)\n",
    "    updates, opt_state = optimizer.update(grad, opt_state, model)\n",
    "    model = eqx.apply_updates(model, updates)\n",
    "    return model, opt_state, loss_value\n",
    "\n",
    "\n",
    "def train(model: Model, x: Float[Array, \"batch_size feature_size\"], y: Float[Array, \"batch_size 1\"],\n",
    "          epoches: int) -> Model:\n",
    "    opt_state = optimizer.init(eqx.filter(model, eqx.is_array))\n",
    "    for _ in range(epoches):\n",
    "        model, opt_state, loss_value = train_step(model, opt_state, x, y)\n",
    "    return model"
   ],
   "id": "e777e21a2614781f",
   "outputs": [],
   "execution_count": 19
  },
  {
   "metadata": {
    "ExecuteTime": {
     "end_time": "2024-08-26T18:07:26.913879Z",
     "start_time": "2024-08-26T18:07:26.765012Z"
    }
   },
   "cell_type": "code",
   "source": "model = train(model, x, y, 100000)",
   "id": "ed3981b469750b74",
   "outputs": [
    {
     "ename": "TypeError",
     "evalue": "'NoneType' object is not callable",
     "output_type": "error",
     "traceback": [
      "\u001B[0;31m---------------------------------------------------------------------------\u001B[0m",
      "\u001B[0;31mTypeError\u001B[0m                                 Traceback (most recent call last)",
      "Cell \u001B[0;32mIn[20], line 1\u001B[0m\n\u001B[0;32m----> 1\u001B[0m model \u001B[38;5;241m=\u001B[39m \u001B[43mtrain\u001B[49m\u001B[43m(\u001B[49m\u001B[43mmodel\u001B[49m\u001B[43m,\u001B[49m\u001B[43m \u001B[49m\u001B[43mx\u001B[49m\u001B[43m,\u001B[49m\u001B[43m \u001B[49m\u001B[43my\u001B[49m\u001B[43m,\u001B[49m\u001B[43m \u001B[49m\u001B[38;5;241;43m100000\u001B[39;49m\u001B[43m)\u001B[49m\n",
      "    \u001B[0;31m[... skipping hidden 1 frame]\u001B[0m\n",
      "File \u001B[0;32m~/.cache/pypoetry/virtualenvs/nn-_E-t-asW-py3.12/lib/python3.12/site-packages/jaxtyping/_decorator.py:449\u001B[0m, in \u001B[0;36mjaxtyped.<locals>.wrapped_fn_impl\u001B[0;34m(args, kwargs, bound, memos)\u001B[0m\n\u001B[1;32m    446\u001B[0m             \u001B[38;5;28;01mraise\u001B[39;00m TypeCheckError(msg) \u001B[38;5;28;01mfrom\u001B[39;00m \u001B[38;5;21;01me\u001B[39;00m\n\u001B[1;32m    448\u001B[0m \u001B[38;5;66;03m# Actually call the function.\u001B[39;00m\n\u001B[0;32m--> 449\u001B[0m out \u001B[38;5;241m=\u001B[39m \u001B[43mfn\u001B[49m\u001B[43m(\u001B[49m\u001B[38;5;241;43m*\u001B[39;49m\u001B[43margs\u001B[49m\u001B[43m,\u001B[49m\u001B[43m \u001B[49m\u001B[38;5;241;43m*\u001B[39;49m\u001B[38;5;241;43m*\u001B[39;49m\u001B[43mkwargs\u001B[49m\u001B[43m)\u001B[49m\n\u001B[1;32m    451\u001B[0m \u001B[38;5;28;01mif\u001B[39;00m full_signature\u001B[38;5;241m.\u001B[39mreturn_annotation \u001B[38;5;129;01mis\u001B[39;00m \u001B[38;5;129;01mnot\u001B[39;00m inspect\u001B[38;5;241m.\u001B[39mSignature\u001B[38;5;241m.\u001B[39mempty:\n\u001B[1;32m    452\u001B[0m     \u001B[38;5;66;03m# Now type-check the return value. We need to include the\u001B[39;00m\n\u001B[1;32m    453\u001B[0m     \u001B[38;5;66;03m# parameters in the type-checking here in case there are any\u001B[39;00m\n\u001B[0;32m   (...)\u001B[0m\n\u001B[1;32m    464\u001B[0m     \u001B[38;5;66;03m# checking of the parameters. Unfortunately there doesn't seem\u001B[39;00m\n\u001B[1;32m    465\u001B[0m     \u001B[38;5;66;03m# to be a way around that, so c'est la vie.\u001B[39;00m\n\u001B[1;32m    466\u001B[0m     kwargs[output_name] \u001B[38;5;241m=\u001B[39m out\n",
      "Cell \u001B[0;32mIn[19], line 18\u001B[0m, in \u001B[0;36mtrain\u001B[0;34m(model, x, y, epoches)\u001B[0m\n\u001B[1;32m     16\u001B[0m opt_state \u001B[38;5;241m=\u001B[39m optimizer\u001B[38;5;241m.\u001B[39minit(eqx\u001B[38;5;241m.\u001B[39mfilter(model, eqx\u001B[38;5;241m.\u001B[39mis_array))\n\u001B[1;32m     17\u001B[0m \u001B[38;5;28;01mfor\u001B[39;00m _ \u001B[38;5;129;01min\u001B[39;00m \u001B[38;5;28mrange\u001B[39m(epoches):\n\u001B[0;32m---> 18\u001B[0m     model, opt_state, loss_value \u001B[38;5;241m=\u001B[39m \u001B[43mtrain_step\u001B[49m\u001B[43m(\u001B[49m\u001B[43mmodel\u001B[49m\u001B[43m,\u001B[49m\u001B[43m \u001B[49m\u001B[43mopt_state\u001B[49m\u001B[43m,\u001B[49m\u001B[43m \u001B[49m\u001B[43mx\u001B[49m\u001B[43m,\u001B[49m\u001B[43m \u001B[49m\u001B[43my\u001B[49m\u001B[43m)\u001B[49m\n\u001B[1;32m     19\u001B[0m \u001B[38;5;28;01mreturn\u001B[39;00m model\n",
      "    \u001B[0;31m[... skipping hidden 17 frame]\u001B[0m\n",
      "Cell \u001B[0;32mIn[19], line 8\u001B[0m, in \u001B[0;36mtrain_step\u001B[0;34m(model, opt_state, x, y)\u001B[0m\n\u001B[1;32m      4\u001B[0m \u001B[38;5;129m@eqx\u001B[39m\u001B[38;5;241m.\u001B[39mfilter_jit\n\u001B[1;32m      5\u001B[0m \u001B[38;5;28;01mdef\u001B[39;00m \u001B[38;5;21mtrain_step\u001B[39m(model: Model, opt_state: PyTree, x: Float[Array, \u001B[38;5;124m\"\u001B[39m\u001B[38;5;124mbatch_size feature_size\u001B[39m\u001B[38;5;124m\"\u001B[39m],\n\u001B[1;32m      6\u001B[0m                y: Float[Array, \u001B[38;5;124m\"\u001B[39m\u001B[38;5;124mbatch_size 1\u001B[39m\u001B[38;5;124m\"\u001B[39m]) \u001B[38;5;241m-\u001B[39m\u001B[38;5;241m>\u001B[39m \u001B[38;5;28mtuple\u001B[39m[Model, PyTree, FloatScalar]:\n\u001B[1;32m      7\u001B[0m     loss_value, grad \u001B[38;5;241m=\u001B[39m eqx\u001B[38;5;241m.\u001B[39mfilter_value_and_grad(loss)(model, x, y)\n\u001B[0;32m----> 8\u001B[0m     jax\u001B[38;5;241m.\u001B[39mdebug\u001B[38;5;241m.\u001B[39mprint(\u001B[43mjax\u001B[49m\u001B[38;5;241;43m.\u001B[39;49m\u001B[43mvmap\u001B[49m\u001B[43m(\u001B[49m\u001B[43mgrad\u001B[49m\u001B[43m)\u001B[49m\u001B[43m(\u001B[49m\u001B[43mx\u001B[49m\u001B[43m)\u001B[49m)\n\u001B[1;32m      9\u001B[0m     updates, opt_state \u001B[38;5;241m=\u001B[39m optimizer\u001B[38;5;241m.\u001B[39mupdate(grad, opt_state, model)\n\u001B[1;32m     10\u001B[0m     model \u001B[38;5;241m=\u001B[39m eqx\u001B[38;5;241m.\u001B[39mapply_updates(model, updates)\n",
      "    \u001B[0;31m[... skipping hidden 5 frame]\u001B[0m\n",
      "Cell \u001B[0;32mIn[10], line 15\u001B[0m, in \u001B[0;36mModel.__call__\u001B[0;34m(self, x)\u001B[0m\n\u001B[1;32m     13\u001B[0m \u001B[38;5;28;01mdef\u001B[39;00m \u001B[38;5;21m__call__\u001B[39m(\u001B[38;5;28mself\u001B[39m, x: Float[Array, \u001B[38;5;124m\"\u001B[39m\u001B[38;5;124mfeature_size\u001B[39m\u001B[38;5;124m\"\u001B[39m]) \u001B[38;5;241m-\u001B[39m\u001B[38;5;241m>\u001B[39m Float[Array, \u001B[38;5;124m\"\u001B[39m\u001B[38;5;124m1\u001B[39m\u001B[38;5;124m\"\u001B[39m]:\n\u001B[1;32m     14\u001B[0m     \u001B[38;5;28;01mfor\u001B[39;00m layer \u001B[38;5;129;01min\u001B[39;00m \u001B[38;5;28mself\u001B[39m\u001B[38;5;241m.\u001B[39mlayers:\n\u001B[0;32m---> 15\u001B[0m         x \u001B[38;5;241m=\u001B[39m \u001B[43mlayer\u001B[49m\u001B[43m(\u001B[49m\u001B[43mx\u001B[49m\u001B[43m)\u001B[49m\n\u001B[1;32m     16\u001B[0m     \u001B[38;5;28;01mreturn\u001B[39;00m x\n",
      "\u001B[0;31mTypeError\u001B[0m: 'NoneType' object is not callable"
     ]
    }
   ],
   "execution_count": 20
  },
  {
   "metadata": {
    "ExecuteTime": {
     "end_time": "2024-08-26T18:06:50.417343308Z",
     "start_time": "2024-08-26T17:50:15.748719Z"
    }
   },
   "cell_type": "code",
   "source": "evaluation(model, x, y)",
   "id": "830ead50d04f74d8",
   "outputs": [
    {
     "data": {
      "text/plain": [
       "(Array(4.4534744e+16, dtype=float32), Array(1.3860984e+08, dtype=float32))"
      ]
     },
     "execution_count": 35,
     "metadata": {},
     "output_type": "execute_result"
    }
   ],
   "execution_count": 35
  },
  {
   "metadata": {
    "ExecuteTime": {
     "end_time": "2024-08-26T18:06:50.424015617Z",
     "start_time": "2024-08-26T17:50:15.788572Z"
    }
   },
   "cell_type": "code",
   "source": [
    "import matplotlib.pyplot as plt\n",
    "\n",
    "plt.scatter(x, y)\n",
    "plt.plot(x, jax.vmap(model)(x), color=\"red\")"
   ],
   "id": "c68d6ee411072c70",
   "outputs": [
    {
     "data": {
      "text/plain": [
       "[<matplotlib.lines.Line2D at 0x7fe22f510290>]"
      ]
     },
     "execution_count": 36,
     "metadata": {},
     "output_type": "execute_result"
    },
    {
     "data": {
      "text/plain": [
       "<Figure size 640x480 with 1 Axes>"
      ],
      "image/png": "[encoded data removed]"
     },
     "metadata": {},
     "output_type": "display_data"
    }
   ],
   "execution_count": 36
  },
  {
   "metadata": {
    "ExecuteTime": {
     "end_time": "2024-08-26T18:06:50.424881237Z",
     "start_time": "2024-08-26T17:50:16.713444Z"
    }
   },
   "cell_type": "code",
   "source": "",
   "id": "79de410cf1c09ba0",
   "outputs": [],
   "execution_count": null
  },
  {
   "metadata": {
    "ExecuteTime": {
     "end_time": "2024-08-26T18:06:50.425274207Z",
     "start_time": "2024-08-26T17:50:16.755403Z"
    }
   },
   "cell_type": "code",
   "source": "",
   "id": "e3a29169d6b89a92",
   "outputs": [],
   "execution_count": null
  }
 ],
 "metadata": {
  "kernelspec": {
   "display_name": "Python 3",
   "language": "python",
   "name": "python3"
  },
  "language_info": {
   "codemirror_mode": {
    "name": "ipython",
    "version": 2
   },
   "file_extension": ".py",
   "mimetype": "text/x-python",
   "name": "python",
   "nbconvert_exporter": "python",
   "pygments_lexer": "ipython2",
   "version": "2.7.6"
  }
 },
 "nbformat": 4,
 "nbformat_minor": 5
}
